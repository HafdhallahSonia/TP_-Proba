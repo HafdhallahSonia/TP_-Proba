{
 "cells": [
  {
   "cell_type": "markdown",
   "metadata": {},
   "source": [
    "# Simulation du jeux de LIDO simplifié"
   ]
  },
  {
   "cell_type": "markdown",
   "metadata": {},
   "source": [
    "## Principe\n",
    "On considére un jeux de Lido simple:\n",
    "on dispose d'un un seul pion.\n",
    "\n",
    "- Etape 0 :\n",
    "Le pion doit sort de sa prison lorsqu'on obtient un 6.\n",
    "\n",
    "- Etape 1 :\n",
    "Le pion doit atteindre exactement une position cible situé à N pas de distance de sa prison \n",
    "\n",
    "Soit $X_n$ la variable aléatoire qui represente le nombre de coup nécéssaire pour atteindre la positions cible.\n",
    "\n",
    "**Objectif 1** : Simuler le jeux \n",
    "\n",
    "**Objectif 2** : Calculer une estimation de l'éspérance mathématique de $X_n$ en utilisant `python`\n",
    "\n",
    "**Objéctif 3** : Observer la variation de $\\mathbb{E}(X_n)$ en fonction de $n$\n",
    "\n",
    "<img src=\"LIDO.png\">\n"
   ]
  },
  {
   "cell_type": "code",
   "execution_count": 9,
   "metadata": {},
   "outputs": [],
   "source": [
    "import numpy as np"
   ]
  },
  {
   "cell_type": "markdown",
   "metadata": {},
   "source": [
    "### Simulation du lancé de dé"
   ]
  },
  {
   "cell_type": "code",
   "execution_count": 10,
   "metadata": {},
   "outputs": [],
   "source": [
    "def Roll():\n",
    "    return int(np.random.choice(range(1,7),1))\n",
    "#avoir aleatoirement un nb entre 1 et 6"
   ]
  },
  {
   "cell_type": "code",
   "execution_count": 11,
   "metadata": {},
   "outputs": [
    {
     "data": {
      "text/plain": [
       "1"
      ]
     },
     "execution_count": 11,
     "metadata": {},
     "output_type": "execute_result"
    }
   ],
   "source": [
    "Roll()"
   ]
  },
  {
   "cell_type": "markdown",
   "metadata": {},
   "source": [
    "### Compléter le code et commenter"
   ]
  },
  {
   "cell_type": "code",
   "execution_count": 12,
   "metadata": {
    "scrolled": false
   },
   "outputs": [
    {
     "name": "stdout",
     "output_type": "stream",
     "text": [
      "1 5\n",
      "2 4\n",
      "3 4\n",
      "4 3\n",
      "5 6\n",
      "sortie de la prison apres 5 coups\n",
      "6 6 7\n",
      "7 5 7\n",
      "8 2 9\n",
      "9 6 9\n",
      "10 1 10\n"
     ]
    }
   ],
   "source": [
    "A=0 #prison\n",
    "NA=0 #compteur / nombre de coups\n",
    "S=10 #position cible\n",
    "temp=Roll()\n",
    "NA+=1\n",
    "print(NA,temp)\n",
    "while temp!=6:  #repeter {la fonction Roll()} jusqu'a avoir 6 avec le nombre de coups avance avec chaque lance\n",
    "    temp=Roll()\n",
    "    NA+=1\n",
    "    print(NA,temp)\n",
    "A=1\n",
    "print('sortie de la prison apres {} coups'.format(NA))\n",
    "\n",
    "while(A<S): #repeter jusqu'a le somme de prisons = la position cible {S=10}\n",
    "    temp=Roll()\n",
    "    if temp+A<S:\n",
    "        NA+=1\n",
    "        A+=temp\n",
    "        print(NA,temp,A)\n",
    "    elif temp+A>S:\n",
    "        NA+=1\n",
    "        print(NA,temp,A)\n",
    "    else:\n",
    "        A=S\n",
    "        NA+=1\n",
    "        print(NA,temp,A)\n",
    "        \n",
    "        \n"
   ]
  },
  {
   "cell_type": "markdown",
   "metadata": {},
   "source": [
    "### Simulation\n",
    "Ecrire une foction `sim` qui simule le jeux et qui prend comme variable le nombre de pas $n$ nécessazire pour atteindre la cible"
   ]
  },
  {
   "cell_type": "code",
   "execution_count": 13,
   "metadata": {},
   "outputs": [],
   "source": [
    "def sim(S):\n",
    "    A=0 #prison\n",
    "    NA=0 #compteur\n",
    "    temp=Roll()\n",
    "    NA+=1\n",
    "    while temp!=6:\n",
    "        temp=Roll()\n",
    "        NA+=1\n",
    "    A=1\n",
    "    while(A<S):\n",
    "        temp=Roll()\n",
    "        if temp+A<S:\n",
    "            NA+=1\n",
    "            A+=temp\n",
    "        elif temp+A>S:\n",
    "            NA+=1\n",
    "        else:\n",
    "            A=S\n",
    "            NA+=1\n",
    "    return NA # la fonction renvoie le nombre de coups 'NA' jusqu'à atteindre la position cible 'S' {S modifiable}\n",
    "        \n",
    "    "
   ]
  },
  {
   "cell_type": "code",
   "execution_count": 14,
   "metadata": {},
   "outputs": [
    {
     "data": {
      "text/plain": [
       "8"
      ]
     },
     "execution_count": 14,
     "metadata": {},
     "output_type": "execute_result"
    }
   ],
   "source": [
    "sim(20)"
   ]
  },
  {
   "cell_type": "code",
   "execution_count": 15,
   "metadata": {},
   "outputs": [
    {
     "name": "stdout",
     "output_type": "stream",
     "text": [
      "estimation de la moyenne de X_30 = 19.0355\n"
     ]
    }
   ],
   "source": [
    "#simulation 10000 fois n=30\n",
    "L=[sim(30) for i in range(10000)]\n",
    "Moy=sum(L)/10000\n",
    "print('estimation de la moyenne de X_30 = {}'.format(Moy))\n",
    "# calculer la moyenne de coups jusqu'à atteindre une position cible de 'S' {30} pour 10000 simulation"
   ]
  },
  {
   "cell_type": "markdown",
   "metadata": {},
   "source": [
    "### Simulation de $10^5$  scénario "
   ]
  },
  {
   "cell_type": "code",
   "execution_count": 19,
   "metadata": {},
   "outputs": [],
   "source": [
    "x=list(range(10,20)) # x est une liste de 10 nombre aleatoire de rang(20)\n",
    "x\n",
    "y=[sum([sim(u) for i in range(10000)])/10000 for u in x] \n",
    "# y est une liste de dimension 10 contient la moyenne de coups pour chaque valeur de 'x'"
   ]
  },
  {
   "cell_type": "code",
   "execution_count": 20,
   "metadata": {},
   "outputs": [],
   "source": [
    "import matplotlib.pyplot as plt"
   ]
  },
  {
   "cell_type": "code",
   "execution_count": 21,
   "metadata": {},
   "outputs": [
    {
     "data": {
      "image/png": "[encoded data removed]",
      "text/plain": [
       "<Figure size 432x288 with 1 Axes>"
      ]
     },
     "metadata": {
      "needs_background": "light"
     },
     "output_type": "display_data"
    }
   ],
   "source": [
    "plt.plot(x,y,'*r')\n",
    "plt.show() #affichage de courbe d'abscisse 'x' et d'ordonnée 'y'"
   ]
  },
  {
   "cell_type": "code",
   "execution_count": 22,
   "metadata": {},
   "outputs": [],
   "source": [
    "#pip install scipy"
   ]
  },
  {
   "cell_type": "code",
   "execution_count": 23,
   "metadata": {},
   "outputs": [],
   "source": [
    "from scipy import stats\n",
    "import numpy as np\n",
    "slope, intercept, r_value, p_value, std_err = stats.linregress(x,y)"
   ]
  },
  {
   "cell_type": "code",
   "execution_count": 24,
   "metadata": {},
   "outputs": [
    {
     "data": {
      "text/plain": [
       "0.29619272727272733"
      ]
     },
     "execution_count": 24,
     "metadata": {},
     "output_type": "execute_result"
    }
   ],
   "source": [
    "slope  #pente"
   ]
  },
  {
   "cell_type": "code",
   "execution_count": 25,
   "metadata": {},
   "outputs": [
    {
     "data": {
      "text/plain": [
       "10.329405454545455"
      ]
     },
     "execution_count": 25,
     "metadata": {},
     "output_type": "execute_result"
    }
   ],
   "source": [
    "intercept  #intercepter"
   ]
  },
  {
   "cell_type": "code",
   "execution_count": 26,
   "metadata": {},
   "outputs": [],
   "source": [
    "yy=[slope *u +intercept for u in x]"
   ]
  },
  {
   "cell_type": "code",
   "execution_count": 28,
   "metadata": {},
   "outputs": [
    {
     "data": {
      "text/plain": [
       "[<matplotlib.lines.Line2D at 0x9146718>,\n",
       " <matplotlib.lines.Line2D at 0x9146730>]"
      ]
     },
     "execution_count": 28,
     "metadata": {},
     "output_type": "execute_result"
    },
    {
     "data": {
      "image/png": "[encoded data removed]",
      "text/plain": [
       "<Figure size 432x288 with 1 Axes>"
      ]
     },
     "metadata": {
      "needs_background": "light"
     },
     "output_type": "display_data"
    }
   ],
   "source": [
    "plt.plot(x,y,'*r',x,yy,'-b')"
   ]
  },
  {
   "cell_type": "markdown",
   "metadata": {},
   "source": [
    "E(X_n)~=0.29619272727272733*n+10.329405454545455\n",
    " - somme de n fois pente et l'intercepter"
   ]
  }
 ],
 "metadata": {
  "kernelspec": {
   "display_name": "Python 3",
   "language": "python",
   "name": "python3"
  },
  "language_info": {
   "codemirror_mode": {
    "name": "ipython",
    "version": 3
   },
   "file_extension": ".py",
   "mimetype": "text/x-python",
   "name": "python",
   "nbconvert_exporter": "python",
   "pygments_lexer": "ipython3",
   "version": "3.8.8"
  }
 },
 "nbformat": 4,
 "nbformat_minor": 4
}
